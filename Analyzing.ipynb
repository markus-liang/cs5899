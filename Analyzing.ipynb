{
 "cells": [
  {
   "cell_type": "code",
   "execution_count": 1,
   "id": "noble-murder",
   "metadata": {},
   "outputs": [],
   "source": [
    "# Declaration\n",
    "\n",
    "import pandas as pd\n",
    "import numpy as np\n",
    "from enum import Enum\n",
    "from enum import IntEnum"
   ]
  },
  {
   "cell_type": "markdown",
   "id": "thick-albany",
   "metadata": {},
   "source": [
    "## [Pattern]\n",
    "\n",
    "### Goal 1 : Livespan after first medication per drugs"
   ]
  },
  {
   "cell_type": "code",
   "execution_count": 67,
   "id": "civil-sector",
   "metadata": {},
   "outputs": [],
   "source": [
    "# Goal 1 : livespan after first medication\n",
    "\n",
    "data = pd.read_csv('diabetes/p_m.csv')\n",
    "data = data[data['DEAD'] == 1]\n",
    "data = data[data['AGEMEDICATION'] == data['AGEFIRSTMEDICATION']].reset_index(drop=True)"
   ]
  },
  {
   "cell_type": "code",
   "execution_count": 68,
   "id": "sorted-transition",
   "metadata": {},
   "outputs": [],
   "source": [
    "data_cnt = len(data)\n",
    "\n",
    "metformin = data[data['METFORMIN'] == 1].describe()['DAYSLIVEFIRSTMED']\n",
    "avg_metformin = metformin['mean']\n",
    "\n",
    "insulin = data[data['INSULIN'] == 1].describe()['DAYSLIVEFIRSTMED']\n",
    "avg_insulin = insulin['mean']\n",
    "\n",
    "glp1 = data[data['GLP1'] == 1].describe()['DAYSLIVEFIRSTMED']\n",
    "avg_glp1 = glp1.describe()['mean']\n",
    "\n",
    "sglt2 = data[data['SGLT2'] == 1].describe()['DAYSLIVEFIRSTMED']\n",
    "avg_sglt2 = sglt2.describe()['mean']\n"
   ]
  },
  {
   "cell_type": "code",
   "execution_count": 69,
   "id": "yellow-insulin",
   "metadata": {},
   "outputs": [
    {
     "name": "stdout",
     "output_type": "stream",
     "text": [
      "Live span after first medication\n",
      "Num of samples : 4023\n",
      "Metformin\n",
      " - used : 3701 times ( 92.00 %)\n",
      " - average livespan :  8230.72 days /  274.36  months /  22.55  years\n",
      "Insulin\n",
      " - used : 352 times ( 8.75 %)\n",
      " - average livespan :  7693.61 days /  256.45  months /  21.08  years\n",
      "GLP1\n",
      " - used : 249 times ( 6.19 %)\n",
      " - average livespan :  4755.20 days /  158.51  months /  13.03  years\n",
      "SGLT2\n",
      " - used : 2 times ( 0.05 %)\n",
      " - average livespan :  2655.00 days /  88.50  months /  7.27  years\n"
     ]
    }
   ],
   "source": [
    "print('Live span after first medication')\n",
    "print('Num of samples :', data_cnt)\n",
    "\n",
    "print('Metformin')\n",
    "print(' - used :', int(metformin['count']), 'times (', '%0.2f' % ((metformin['count']/data_cnt)*100), '%)')\n",
    "print(' - average livespan : ', '%0.2f' % metformin['mean'], 'days / ', '%0.2f' % (metformin['mean']/30), ' months / ', '%0.2f' % (metformin['mean']/365), ' years')\n",
    "\n",
    "print('Insulin')\n",
    "print(' - used :', int(insulin['count']) ,'times (', '%0.2f' % ((insulin['count']/data_cnt)*100), '%)')\n",
    "print(' - average livespan : ', '%0.2f' % insulin['mean'], 'days / ', '%0.2f' % (insulin['mean']/30), ' months / ', '%0.2f' % (insulin['mean']/365), ' years')\n",
    "\n",
    "print('GLP1')\n",
    "print(' - used :', int(glp1['count']) , 'times (', '%0.2f' % ((glp1['count']/data_cnt)*100), '%)')\n",
    "print(' - average livespan : ', '%0.2f' % glp1['mean'], 'days / ', '%0.2f' % (glp1['mean']/30), ' months / ', '%0.2f' % (glp1['mean']/365), ' years')\n",
    "\n",
    "print('SGLT2')\n",
    "print(' - used :', int(sglt2['count']), 'times (', '%0.2f' % ((sglt2['count']/data_cnt)*100), '%)')\n",
    "print(' - average livespan : ', '%0.2f' % sglt2['mean'], 'days / ', '%0.2f' % (sglt2['mean']/30), ' months / ', '%0.2f' % (sglt2['mean']/365), ' years')"
   ]
  },
  {
   "cell_type": "markdown",
   "id": "removed-armstrong",
   "metadata": {},
   "source": [
    "## [Patern]\n",
    "\n",
    "### Goal 2 : Drugs based on HBA1C"
   ]
  },
  {
   "cell_type": "code",
   "execution_count": 71,
   "id": "bibliographic-pharmacy",
   "metadata": {},
   "outputs": [
    {
     "data": {
      "text/html": [
       "<div>\n",
       "<style scoped>\n",
       "    .dataframe tbody tr th:only-of-type {\n",
       "        vertical-align: middle;\n",
       "    }\n",
       "\n",
       "    .dataframe tbody tr th {\n",
       "        vertical-align: top;\n",
       "    }\n",
       "\n",
       "    .dataframe thead th {\n",
       "        text-align: right;\n",
       "    }\n",
       "</style>\n",
       "<table border=\"1\" class=\"dataframe\">\n",
       "  <thead>\n",
       "    <tr style=\"text-align: right;\">\n",
       "      <th></th>\n",
       "      <th>PATIENT</th>\n",
       "      <th>ENCOUNTER</th>\n",
       "      <th>MEDSTART</th>\n",
       "      <th>INSULIN</th>\n",
       "      <th>METFORMIN</th>\n",
       "      <th>GLP1</th>\n",
       "      <th>SGLT2</th>\n",
       "      <th>OBSDATE</th>\n",
       "      <th>CODE</th>\n",
       "      <th>HBA1C</th>\n",
       "    </tr>\n",
       "  </thead>\n",
       "  <tbody>\n",
       "    <tr>\n",
       "      <th>0</th>\n",
       "      <td>002abc25-f52d-48a3-91b1-9d5f9480184e</td>\n",
       "      <td>3307b95e-c15b-43a3-9d9a-20b49b0fa5ad</td>\n",
       "      <td>2016-04-29</td>\n",
       "      <td>1</td>\n",
       "      <td>0</td>\n",
       "      <td>0</td>\n",
       "      <td>0</td>\n",
       "      <td>2016-04-29</td>\n",
       "      <td>4548-4</td>\n",
       "      <td>7.0</td>\n",
       "    </tr>\n",
       "  </tbody>\n",
       "</table>\n",
       "</div>"
      ],
      "text/plain": [
       "                                PATIENT                             ENCOUNTER  \\\n",
       "0  002abc25-f52d-48a3-91b1-9d5f9480184e  3307b95e-c15b-43a3-9d9a-20b49b0fa5ad   \n",
       "\n",
       "     MEDSTART  INSULIN  METFORMIN  GLP1  SGLT2     OBSDATE    CODE  HBA1C  \n",
       "0  2016-04-29        1          0     0      0  2016-04-29  4548-4    7.0  "
      ]
     },
     "execution_count": 71,
     "metadata": {},
     "output_type": "execute_result"
    }
   ],
   "source": [
    "data = pd.read_csv(\"diabetes/m_o.csv\")\n",
    "data = data[~data[\"HBA1C\"].isna()].reset_index(drop=True)\n",
    "data.head(1)"
   ]
  },
  {
   "cell_type": "code",
   "execution_count": 72,
   "id": "educational-medicaid",
   "metadata": {},
   "outputs": [],
   "source": [
    "data_cnt = len(data)\n",
    "\n",
    "metformin = data[data['METFORMIN'] == 1].describe()[\"HBA1C\"]\n",
    "avg_metformin = metformin['mean']\n",
    "\n",
    "insulin = data[data['INSULIN'] == 1].describe()[\"HBA1C\"]\n",
    "avg_insulin = insulin['mean']\n",
    "\n",
    "glp1 = data[data['GLP1'] == 1].describe()[\"HBA1C\"]\n",
    "avg_glp1 = glp1.describe()['mean']\n",
    "\n",
    "sglt2 = data[data['SGLT2'] == 1].describe()[\"HBA1C\"]\n",
    "avg_sglt2 = sglt2.describe()['mean']"
   ]
  },
  {
   "cell_type": "code",
   "execution_count": 73,
   "id": "backed-gateway",
   "metadata": {},
   "outputs": [
    {
     "name": "stdout",
     "output_type": "stream",
     "text": [
      "HBA1C average levels at the time of medication\n",
      "Num of samples : 4792\n",
      "Metformin :  8.63\n",
      "Insulin   :  7.33\n",
      "GLP1      :  9.60\n",
      "SGLT2     :  9.69\n"
     ]
    }
   ],
   "source": [
    "print('HBA1C average levels at the time of medication')\n",
    "print('Num of samples :', data_cnt)\n",
    "\n",
    "print('Metformin : ', '%0.2f' % metformin['mean'])\n",
    "print('Insulin   : ', '%0.2f' % insulin['mean'])\n",
    "print('GLP1      : ', '%0.2f' % glp1['mean'])\n",
    "print('SGLT2     : ', '%0.2f' % sglt2['mean'])"
   ]
  },
  {
   "cell_type": "markdown",
   "id": "indoor-roberts",
   "metadata": {},
   "source": [
    "## [Pattern]\n",
    "\n",
    "### Goal 3 Duration until next medication"
   ]
  },
  {
   "cell_type": "code",
   "execution_count": 106,
   "id": "documented-maldives",
   "metadata": {},
   "outputs": [],
   "source": [
    "data = pd.read_csv('diabetes/p_m.csv')\n",
    "#data = data.drop(['RACE', 'GENDER', 'AGEDEAD', 'AGEMEDICATION', 'MEDSTOP'], axis=1, errors='ignore')"
   ]
  },
  {
   "cell_type": "code",
   "execution_count": 107,
   "id": "convenient-analyst",
   "metadata": {},
   "outputs": [],
   "source": [
    "data = data.set_index(['PATIENT', 'ENCOUNTER'])\n",
    "data = data.sort_values(['MEDSTART'])\n",
    "data['MEDNEXT'] = data.groupby(level=[0])['MEDSTART'].shift(-1)\n",
    "data['MEDSTART'] = pd.to_datetime(data['MEDSTART'], format='%Y-%m-%d')\n",
    "data['MEDNEXT'] = pd.to_datetime(data['MEDNEXT'], format='%Y-%m-%d')\n",
    "data['MEDDUR'] = (data['MEDNEXT'] - data['MEDSTART']).dt.days\n",
    "data = data[~data['MEDDUR'].isna()]"
   ]
  },
  {
   "cell_type": "code",
   "execution_count": 111,
   "id": "champion-ottawa",
   "metadata": {},
   "outputs": [],
   "source": [
    "data_cnt = len(data)\n",
    "\n",
    "metformin = data[data['METFORMIN']==1].describe()['MEDDUR']\n",
    "insulin = data[data['INSULIN']==1].describe()['MEDDUR']\n",
    "glp1 = data[data['GLP1']==1].describe()['MEDDUR']\n",
    "sglt2 = data[data['SGLT2']==1].describe()['MEDDUR']"
   ]
  },
  {
   "cell_type": "code",
   "execution_count": 119,
   "id": "confirmed-buying",
   "metadata": {},
   "outputs": [
    {
     "name": "stdout",
     "output_type": "stream",
     "text": [
      "Average duration until next medication\n",
      "Num of samples : 7070\n",
      "Metformin :  4273.23 days / 142.44  months / 11.71  years\n",
      "Insulin   :  1904.59 days / 63.49  months / 5.22  years\n",
      "GLP1      :  1873.57 days / 62.45  months / 5.13  years\n",
      "SGLT2     :  780.36 days / 26.01  months / 2.14  years\n"
     ]
    }
   ],
   "source": [
    "print('Average duration until next medication')\n",
    "print('Num of samples :', data_cnt)\n",
    "print('Metformin : ', '%0.2f' % metformin['mean'], 'days /', '%0.2f' % (metformin['mean']/30), ' months /', '%0.2f' % (metformin['mean']/365), ' years')\n",
    "print('Insulin   : ', '%0.2f' % insulin['mean'], 'days /', '%0.2f' % (insulin['mean']/30), ' months /', '%0.2f' % (insulin['mean']/365), ' years')\n",
    "print('GLP1      : ', '%0.2f' % glp1['mean'], 'days /', '%0.2f' % (glp1['mean']/30), ' months /', '%0.2f' % (glp1['mean']/365), ' years')\n",
    "print('SGLT2     : ', '%0.2f' % sglt2['mean'], 'days /', '%0.2f' % (sglt2['mean']/30), ' months /', '%0.2f' % (sglt2['mean']/365), ' years')"
   ]
  },
  {
   "cell_type": "markdown",
   "id": "structured-humanity",
   "metadata": {},
   "source": [
    "## [Learning]\n",
    "\n",
    "### Goal 1 : Predicting medication for new patient"
   ]
  },
  {
   "cell_type": "code",
   "execution_count": null,
   "id": "limiting-giving",
   "metadata": {},
   "outputs": [],
   "source": []
  }
 ],
 "metadata": {
  "kernelspec": {
   "display_name": "Python 3",
   "language": "python",
   "name": "python3"
  },
  "language_info": {
   "codemirror_mode": {
    "name": "ipython",
    "version": 3
   },
   "file_extension": ".py",
   "mimetype": "text/x-python",
   "name": "python",
   "nbconvert_exporter": "python",
   "pygments_lexer": "ipython3",
   "version": "3.9.1"
  }
 },
 "nbformat": 4,
 "nbformat_minor": 5
}
