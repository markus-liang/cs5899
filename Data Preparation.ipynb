{
 "cells": [
  {
   "cell_type": "code",
   "execution_count": 1,
   "id": "foster-jaguar",
   "metadata": {},
   "outputs": [],
   "source": [
    "# Declaration\n",
    "\n",
    "import pandas as pd\n",
    "import numpy as np\n",
    "from enum import Enum\n",
    "from enum import IntEnum\n",
    "\n",
    "class Disease(IntEnum):\n",
    "    CHD = 53741008\n",
    "    DIABETES = 44054006\n",
    "    HYPERTENSION = 38341003\n",
    "    MI = 22298006\n",
    "    STROKE = 230690007\n",
    "\n",
    "class DrugDiabetes(IntEnum):\n",
    "    METFORMIN = 860975\n",
    "    INSULIN = 106892\n",
    "    GLP1 = 897122\n",
    "    SGLT2 = 1373463\n",
    "\n",
    "class Observation(Enum):\n",
    "    BH = \"8302-2\"\n",
    "    BW = \"29463-7\"\n",
    "    BMI = \"39156-5\"\n",
    "    DIASTOLIC = \"8462-4\"\n",
    "    GLUCOSE = \"2339-0\"\n",
    "    HBA1C = \"4548-4\"\n",
    "    SYSTOLIC = \"8480-6\""
   ]
  },
  {
   "cell_type": "markdown",
   "id": "liable-medline",
   "metadata": {},
   "source": [
    "\n",
    "## LOAD & CLEANING DATA PER SET\n",
    "\n",
    "source : set(setnumber)\\_raw/\n",
    "dest   : set(setnumber)/"
   ]
  },
  {
   "cell_type": "code",
   "execution_count": 2,
   "id": "jewish-newfoundland",
   "metadata": {},
   "outputs": [],
   "source": [
    "cleaning_set = \"set1\"\n",
    "\n",
    "# loading data\n",
    "def load_data(type):\n",
    "    data = pd.read_csv(cleaning_set + \"/\" + type + \".csv\")\n",
    "    return data"
   ]
  },
  {
   "cell_type": "code",
   "execution_count": null,
   "id": "accurate-stick",
   "metadata": {},
   "outputs": [],
   "source": [
    "# cleaning - patients\n",
    "def cleaning_patients():\n",
    "    # patients\n",
    "    pat = pd.read_csv(cleaning_setworking_set + \"_raw/patients.csv\", sep=\";\", usecols=range(17))\n",
    "    pat = pat.drop(\n",
    "        [\"SSN\", \"DRIVERS\", \"PASSPORT\", \"PREFIX\", \"FIRST\", \"LAST\", \"SUFFIX\", \"MARITAL\", \"MAIDEN\", \"BIRTHPLACE\", \"ADDRESS\" ], \n",
    "        axis=1\n",
    "    )\n",
    "\n",
    "    # clean data due to malformed csv\n",
    "    race_list = [\"asian\", \"white\", \"black\", \"hispanic\"]\n",
    "    pat[\"RACE\"].replace(pat[~pat[\"RACE\"].isin(race_list)][\"RACE\"].array, np.nan, inplace=True)\n",
    "    pat = pat[pat[\"RACE\"].notna()]\n",
    "\n",
    "    ethnicity_list = [\"african\", \"american\", \"american_indian\", \"asian_indian\", \"central_american\", \"chinese\", \"dominican\", \"english\", \"french\", \"french_canadian\", \"german\", \"irish\", \"italian\", \"mexican\", \"polish\", \"portuguese\", \"puerto_rican\", \"russian\", \"scottish\", \"swedish\", \"west_indian\"]\n",
    "    pat[\"ETHNICITY\"].replace(pat[~pat[\"ETHNICITY\"].isin(ethnicity_list)][\"ETHNICITY\"].array, np.nan, inplace=True)\n",
    "\n",
    "    gender_list = [\"F\", \"M\"]\n",
    "    pat[\"GENDER\"].replace(pat[~pat[\"GENDER\"].isin(gender_list)][\"GENDER\"].array, np.nan, inplace=True)\n",
    "    pat = pat[pat[\"GENDER\"].notna()]\n",
    "\n",
    "    # save\n",
    "    pat.to_csv(cleaning_setworking_set + \"/patients.csv\", index=False)\n",
    "\n",
    "#cleaning_patients()"
   ]
  },
  {
   "cell_type": "code",
   "execution_count": null,
   "id": "relative-floating",
   "metadata": {},
   "outputs": [],
   "source": [
    "# cleaning - medications\n",
    "\n",
    "def cleaning_medications():\n",
    "    # remove all medications without patient data\n",
    "    pat = load_data(\"patients\")\n",
    "\n",
    "    med = pd.read_csv(cleaning_set + \"_raw/medications.csv\")        \n",
    "    med = med[med[\"PATIENT\"].isin(pat[\"ID\"])]\n",
    "    med = med[~med[\"REASONCODE\"].isna()]\n",
    "    med = med.drop_duplicates()\n",
    "    # save\n",
    "    med.to_csv(cleaning_set + \"/medications.csv\", index=False)\n",
    "\n",
    "#cleaning_medications()"
   ]
  },
  {
   "cell_type": "code",
   "execution_count": null,
   "id": "regional-franklin",
   "metadata": {},
   "outputs": [],
   "source": [
    "# cleaning - encounters\n",
    "\n",
    "def cleaning_encounters():\n",
    "    # remove all encounters without patient data\n",
    "    pat = load_data(\"patients\")\n",
    "\n",
    "    enc = pd.read_csv(cleaning_setworking_set + \"_raw/encounters.csv\")\n",
    "    # most of it is null\n",
    "    enc = enc.drop(\n",
    "        [\"DESCRIPTION\", \"REASONDESCRIPTION\"], \n",
    "        axis=1\n",
    "    )\n",
    "    enc = enc[enc[\"PATIENT\"].isin(pat[\"ID\"])]\n",
    "\n",
    "    # save\n",
    "    enc.to_csv(cleaning_set + \"/encounters.csv\", index=False)\n",
    "    \n",
    "#cleaning_encounters()"
   ]
  },
  {
   "cell_type": "code",
   "execution_count": null,
   "id": "eleven-punch",
   "metadata": {},
   "outputs": [],
   "source": [
    "# cleaning - observations\n",
    "\n",
    "def cleaning_observations():\n",
    "    # remove all encounters without patient data\n",
    "    pat = load_data(\"patients\")\n",
    "    obs = pd.read_csv(cleaning_set + \"_raw/observations.csv\")\n",
    "    obs = obs[obs[\"PATIENT\"].isin(pat[\"ID\"])]\n",
    "    obs = obs[~obs[\"VALUE\"].isna()]\n",
    "    obs = obs.loc[\n",
    "        (obs.CODE==Observation.BH.value)\n",
    "        | (obs.CODE==Observation.BW.value)\n",
    "        | (obs.CODE==Observation.BMI.value)\n",
    "        | (obs.CODE==Observation.DIASTOLIC.value)\n",
    "        | (obs.CODE==Observation.GLUCOSE.value)\n",
    "        | (obs.CODE==Observation.HBA1C.value)\n",
    "        | (obs.CODE==Observation.SYSTOLIC.value)\n",
    "    ]\n",
    "    obs = obs.drop_duplicates()\n",
    "    # save\n",
    "    obs.to_csv(cleaning_set + \"/observations.csv\", index=False)\n",
    "\n",
    "#cleaning_observations()"
   ]
  },
  {
   "cell_type": "markdown",
   "id": "seasonal-sheriff",
   "metadata": {},
   "source": [
    "## CONCAT ALL DATASET FROM ALL SET PER TYPE\n",
    "\n",
    "source : set1/, set2/, set3/, ...\n",
    "\n",
    "target : set_full/\n",
    "\n",
    "files :\n",
    "- patients.csv : ID, BIRTHDATE, DEATHDATE, RACE, ETHNICITY, GENDER\n",
    "- medications.csv  : START, STOP, PATIENT, ENCOUNTER, CODE, DESCRIPTION, REASONCODE, REASONDESCRIPTION\n",
    "- encounters.csv   : ID, DATE, PATIENT, CODE, REASONCODE\n",
    "- observations.csv : DATE, PATIENT, ENCOUNTER, CODE, DESCRIPTION, VALUE, UNITS"
   ]
  },
  {
   "cell_type": "code",
   "execution_count": null,
   "id": "viral-precipitation",
   "metadata": {},
   "outputs": [],
   "source": [
    "def concat_set(type, max_set):\n",
    "    result = pd.read_csv(\"set1/\" + type + \".csv\")\n",
    "    for i in range(1, max_set):\n",
    "        temp = pd.read_csv(\"set2/\" + type + \".csv\")\n",
    "        result = result.append(temp).reset_index(drop=True)\n",
    "    result.to_csv(\"set_full/\" + type + \".csv\", index=False)\n",
    "    return result\n",
    "        \n",
    "#data = concat_set(\"observations\", 2)\n",
    "#data"
   ]
  },
  {
   "cell_type": "markdown",
   "id": "portable-hopkins",
   "metadata": {},
   "source": [
    "## DIABETES\n"
   ]
  },
  {
   "cell_type": "markdown",
   "id": "adapted-absorption",
   "metadata": {},
   "source": [
    "### 1. Medications\n",
    "- file : \"diabetes/m.csv\"\n",
    "- fields : PATIENT, ENCOUNTER, MEDSTART, INSULIN, METFORMIN, GLP1, SGLT2"
   ]
  },
  {
   "cell_type": "code",
   "execution_count": 41,
   "id": "intermediate-adjustment",
   "metadata": {},
   "outputs": [],
   "source": [
    "# load medications\n",
    "# transform multiple paralel medications into columns\n",
    "\n",
    "medications = pd.read_csv('set_full/medications.csv')\n",
    "medications = medications[medications['REASONCODE'] == Disease.DIABETES].reset_index(drop=True)\n",
    "medications = medications.drop(['DESCRIPTION', 'REASONCODE', 'REASONDESCRIPTION'], axis=1)\n",
    "medications = medications.set_index(['PATIENT', 'ENCOUNTER', 'START'])\n",
    "medications = pd.get_dummies(data = medications, columns=['CODE'])\n",
    "medications.sort_index(inplace=True)\n",
    "medications = medications.groupby(level=['PATIENT','ENCOUNTER','START']).agg(['sum'])\n",
    "medications.columns = medications.columns.droplevel(1)\n",
    "medications = medications.reset_index()\n",
    "\n",
    "for d in DrugDiabetes:\n",
    "    medications.rename(\n",
    "        columns={            \n",
    "            'CODE_' + str(d.value) : d.name\n",
    "        }, inplace=True\n",
    "    )\n",
    "    \n",
    "# Rename columns\n",
    "medications = medications.rename(\n",
    "    columns={\n",
    "        'START':'MEDSTART'\n",
    "    }\n",
    ")\n",
    "medications.to_csv('diabetes/m.csv', index=False)"
   ]
  },
  {
   "cell_type": "code",
   "execution_count": 82,
   "id": "pregnant-access",
   "metadata": {},
   "outputs": [
    {
     "data": {
      "text/html": [
       "<div>\n",
       "<style scoped>\n",
       "    .dataframe tbody tr th:only-of-type {\n",
       "        vertical-align: middle;\n",
       "    }\n",
       "\n",
       "    .dataframe tbody tr th {\n",
       "        vertical-align: top;\n",
       "    }\n",
       "\n",
       "    .dataframe thead th {\n",
       "        text-align: right;\n",
       "    }\n",
       "</style>\n",
       "<table border=\"1\" class=\"dataframe\">\n",
       "  <thead>\n",
       "    <tr style=\"text-align: right;\">\n",
       "      <th></th>\n",
       "      <th>PATIENT</th>\n",
       "      <th>ENCOUNTER</th>\n",
       "      <th>MEDSTART</th>\n",
       "      <th>INSULIN</th>\n",
       "      <th>METFORMIN</th>\n",
       "      <th>GLP1</th>\n",
       "      <th>SGLT2</th>\n",
       "    </tr>\n",
       "  </thead>\n",
       "  <tbody>\n",
       "    <tr>\n",
       "      <th>0</th>\n",
       "      <td>000177c6-f76b-432b-9493-5a88bc9fb6bd</td>\n",
       "      <td>351e39d2-52a7-4ce7-928b-5920d9761787</td>\n",
       "      <td>1957-02-27</td>\n",
       "      <td>0</td>\n",
       "      <td>1</td>\n",
       "      <td>1</td>\n",
       "      <td>0</td>\n",
       "    </tr>\n",
       "  </tbody>\n",
       "</table>\n",
       "</div>"
      ],
      "text/plain": [
       "                                PATIENT                             ENCOUNTER  \\\n",
       "0  000177c6-f76b-432b-9493-5a88bc9fb6bd  351e39d2-52a7-4ce7-928b-5920d9761787   \n",
       "\n",
       "     MEDSTART  INSULIN  METFORMIN  GLP1  SGLT2  \n",
       "0  1957-02-27        0          1     1      0  "
      ]
     },
     "execution_count": 82,
     "metadata": {},
     "output_type": "execute_result"
    }
   ],
   "source": [
    "medications.head(1)"
   ]
  },
  {
   "cell_type": "markdown",
   "id": "threatened-illness",
   "metadata": {},
   "source": [
    "### 2. Observations\n",
    "- file : \"diabetes/o.csv\"\n",
    "- fields : DATE, PATIENT, ENCOUNTER, HBA1C (%)"
   ]
  },
  {
   "cell_type": "code",
   "execution_count": 89,
   "id": "framed-reform",
   "metadata": {},
   "outputs": [],
   "source": [
    "observations = pd.read_csv('set_full/observations.csv')\n",
    "observations = observations[observations['CODE'] == Observation.HBA1C.value]\n",
    "observations.drop(['DESCRIPTION', 'UNITS'], axis=1, inplace=True, errors='ignore')\n",
    "\n",
    "# minimum observation value for Diabetes is 0\n",
    "observations['VALUE'].replace(observations[observations['VALUE'] < 0]['VALUE'].array, np.nan, inplace=True)\n",
    "observations = observations[~observations['VALUE'].isna()].reset_index(drop=True)\n",
    "observations\n",
    "observations.to_csv('diabetes/o.csv', index=False)"
   ]
  },
  {
   "cell_type": "code",
   "execution_count": 90,
   "id": "egyptian-subcommittee",
   "metadata": {
    "scrolled": true
   },
   "outputs": [
    {
     "data": {
      "text/html": [
       "<div>\n",
       "<style scoped>\n",
       "    .dataframe tbody tr th:only-of-type {\n",
       "        vertical-align: middle;\n",
       "    }\n",
       "\n",
       "    .dataframe tbody tr th {\n",
       "        vertical-align: top;\n",
       "    }\n",
       "\n",
       "    .dataframe thead th {\n",
       "        text-align: right;\n",
       "    }\n",
       "</style>\n",
       "<table border=\"1\" class=\"dataframe\">\n",
       "  <thead>\n",
       "    <tr style=\"text-align: right;\">\n",
       "      <th></th>\n",
       "      <th>DATE</th>\n",
       "      <th>PATIENT</th>\n",
       "      <th>ENCOUNTER</th>\n",
       "      <th>CODE</th>\n",
       "      <th>VALUE</th>\n",
       "    </tr>\n",
       "  </thead>\n",
       "  <tbody>\n",
       "    <tr>\n",
       "      <th>0</th>\n",
       "      <td>2013-04-24</td>\n",
       "      <td>7fcadc56-5964-418c-9e15-889c62f5df0b</td>\n",
       "      <td>e445e0f4-4b57-48c3-8263-4923c3571a17</td>\n",
       "      <td>4548-4</td>\n",
       "      <td>6.2</td>\n",
       "    </tr>\n",
       "  </tbody>\n",
       "</table>\n",
       "</div>"
      ],
      "text/plain": [
       "         DATE                               PATIENT  \\\n",
       "0  2013-04-24  7fcadc56-5964-418c-9e15-889c62f5df0b   \n",
       "\n",
       "                              ENCOUNTER    CODE  VALUE  \n",
       "0  e445e0f4-4b57-48c3-8263-4923c3571a17  4548-4    6.2  "
      ]
     },
     "execution_count": 90,
     "metadata": {},
     "output_type": "execute_result"
    }
   ],
   "source": [
    "observations.head(1)"
   ]
  },
  {
   "cell_type": "markdown",
   "id": "based-tribute",
   "metadata": {},
   "source": [
    "### 3. Patient - Medication\n",
    "\n",
    "- file : \"diabetes/p_m.csv\"\n",
    "- fields :\n",
    "    - [RACE, ETHNICITY, GENDER, PATIENT, ENCOUNTER] \n",
    "    - [MEDSTART, INSULIN, METFORMIN, GLP1, SGLT2, DEAD]\n",
    "    - [AGEDEAD, AGEMEDICATION, AGEFIRSTMEDICATION, DAYSLIVEFIRSTMED]\n"
   ]
  },
  {
   "cell_type": "code",
   "execution_count": 66,
   "id": "oriented-alloy",
   "metadata": {},
   "outputs": [],
   "source": [
    "# load data\n",
    "patients = pd.read_csv('set_full/patients.csv')"
   ]
  },
  {
   "cell_type": "code",
   "execution_count": 67,
   "id": "complex-square",
   "metadata": {},
   "outputs": [],
   "source": [
    "medications = pd.read_csv('diabetes/m.csv')"
   ]
  },
  {
   "cell_type": "code",
   "execution_count": 68,
   "id": "electronic-relief",
   "metadata": {},
   "outputs": [],
   "source": [
    "# MERGE : PATIENT + MEDICATION\n",
    "\n",
    "# diabetes patients based on medications record\n",
    "diabetes = medications\n",
    "diabetes_patient_ids = diabetes['PATIENT'].unique()\n",
    "\n",
    "# list of patients who have diabetes\n",
    "diabetes_patients = patients[patients['ID'].isin(diabetes_patient_ids)]\n",
    "\n",
    "# data of patient with diabetes medication\n",
    "merged = diabetes_patients.merge(diabetes, left_on='ID', right_on='PATIENT', how='left')\n",
    "\n",
    "#merged.head(1)"
   ]
  },
  {
   "cell_type": "code",
   "execution_count": 69,
   "id": "above-recall",
   "metadata": {},
   "outputs": [],
   "source": [
    "# Convert data types\n",
    "merged['BIRTHDATE'] = pd.to_datetime(merged['BIRTHDATE'], format='%d/%m/%y')\n",
    "merged['DEATHDATE'] = pd.to_datetime(merged['DEATHDATE'], format='%d/%m/%y')\n",
    "merged['MEDSTART'] = pd.to_datetime(merged['MEDSTART'], format='%Y-%m-%d')\n",
    "\n",
    "# Fix 2 digits of year misinterpretation\n",
    "merged.loc[merged['BIRTHDATE'] > merged['MEDSTART'], 'BIRTHDATE'] = merged['BIRTHDATE'] - pd.offsets.DateOffset(years=100)\n",
    "merged.loc[merged['DEATHDATE'] > pd.to_datetime('2020-12-31'), 'DEATHDATE'] = merged['DEATHDATE'] - pd.offsets.DateOffset(years=100)\n"
   ]
  },
  {
   "cell_type": "code",
   "execution_count": 70,
   "id": "eleven-updating",
   "metadata": {},
   "outputs": [],
   "source": [
    "# Add additional information\n",
    "\n",
    "# dead status\n",
    "merged['DEAD'] =  np.where(merged['DEATHDATE'].isnull(), 0, 1)\n",
    "\n",
    "# age when dead (accuracy up to month level)\n",
    "merged['AGEDEAD'] = merged['DEATHDATE'].dt.year - merged['BIRTHDATE'].dt.year - (merged['DEATHDATE'].dt.month < merged['BIRTHDATE'].dt.month)\n",
    "\n",
    "# when the medication happened\n",
    "merged['AGEMEDICATION'] = (merged['MEDSTART']).dt.year - (merged['BIRTHDATE']).dt.year - (merged['MEDSTART'].dt.month < merged['BIRTHDATE'].dt.month)\n",
    "\n",
    "# age first medication\n",
    "group = merged.groupby(['PATIENT'])\n",
    "group_age_medication = group['AGEMEDICATION'].min()\n",
    "temp = pd.DataFrame({'PATIENTID': group_age_medication.keys(), 'AGEFIRSTMEDICATION':group_age_medication.values})\n",
    "merged = merged.merge(temp, left_on='ID', right_on='PATIENTID', how='left')\n",
    "\n",
    "# livespan after first medication\n",
    "merged['DAYSLIVEFIRSTMED'] = (merged['DEATHDATE'] - merged['MEDSTART']).dt.days"
   ]
  },
  {
   "cell_type": "code",
   "execution_count": 71,
   "id": "determined-provision",
   "metadata": {},
   "outputs": [],
   "source": [
    "# Drop unused columns\n",
    "merged.drop(['ID', 'BIRTHDATE', 'DEATHDATE', 'PATIENTID'], axis=1, inplace=True, errors='ignore')"
   ]
  },
  {
   "cell_type": "code",
   "execution_count": 72,
   "id": "periodic-blocking",
   "metadata": {},
   "outputs": [],
   "source": [
    "merged = merged.drop_duplicates()"
   ]
  },
  {
   "cell_type": "code",
   "execution_count": 73,
   "id": "curious-tuner",
   "metadata": {},
   "outputs": [],
   "source": [
    "# get the patient_medication table\n",
    "merged = merged.sort_values(by=['PATIENT', 'ENCOUNTER', 'MEDSTART'])"
   ]
  },
  {
   "cell_type": "code",
   "execution_count": 75,
   "id": "contemporary-caution",
   "metadata": {},
   "outputs": [],
   "source": [
    "# save\n",
    "merged.to_csv('diabetes/p_m.csv', index=False)"
   ]
  },
  {
   "cell_type": "markdown",
   "id": "fabulous-spouse",
   "metadata": {},
   "source": [
    "### 4. Medication - Observation\n",
    "\n",
    "- file : \"diabetes/m_o.csv\"\n",
    "- fields : PATIENT, ENCOUNTER, MEDSTART, INSULIN, METFORMIN, GLP1, SGLT2, OBSDATE, CODE, HBA1C"
   ]
  },
  {
   "cell_type": "code",
   "execution_count": 131,
   "id": "institutional-breast",
   "metadata": {},
   "outputs": [
    {
     "data": {
      "text/html": [
       "<div>\n",
       "<style scoped>\n",
       "    .dataframe tbody tr th:only-of-type {\n",
       "        vertical-align: middle;\n",
       "    }\n",
       "\n",
       "    .dataframe tbody tr th {\n",
       "        vertical-align: top;\n",
       "    }\n",
       "\n",
       "    .dataframe thead th {\n",
       "        text-align: right;\n",
       "    }\n",
       "</style>\n",
       "<table border=\"1\" class=\"dataframe\">\n",
       "  <thead>\n",
       "    <tr style=\"text-align: right;\">\n",
       "      <th></th>\n",
       "      <th>PATIENT</th>\n",
       "      <th>ENCOUNTER</th>\n",
       "      <th>MEDSTART</th>\n",
       "      <th>INSULIN</th>\n",
       "      <th>METFORMIN</th>\n",
       "      <th>GLP1</th>\n",
       "      <th>SGLT2</th>\n",
       "    </tr>\n",
       "  </thead>\n",
       "  <tbody>\n",
       "    <tr>\n",
       "      <th>0</th>\n",
       "      <td>000177c6-f76b-432b-9493-5a88bc9fb6bd</td>\n",
       "      <td>351e39d2-52a7-4ce7-928b-5920d9761787</td>\n",
       "      <td>1957-02-27</td>\n",
       "      <td>0</td>\n",
       "      <td>1</td>\n",
       "      <td>1</td>\n",
       "      <td>0</td>\n",
       "    </tr>\n",
       "    <tr>\n",
       "      <th>1</th>\n",
       "      <td>000177c6-f76b-432b-9493-5a88bc9fb6bd</td>\n",
       "      <td>351e39d2-52a7-4ce7-928b-5920d9761787</td>\n",
       "      <td>1995-03-13</td>\n",
       "      <td>0</td>\n",
       "      <td>0</td>\n",
       "      <td>1</td>\n",
       "      <td>0</td>\n",
       "    </tr>\n",
       "  </tbody>\n",
       "</table>\n",
       "</div>"
      ],
      "text/plain": [
       "                                PATIENT                             ENCOUNTER  \\\n",
       "0  000177c6-f76b-432b-9493-5a88bc9fb6bd  351e39d2-52a7-4ce7-928b-5920d9761787   \n",
       "1  000177c6-f76b-432b-9493-5a88bc9fb6bd  351e39d2-52a7-4ce7-928b-5920d9761787   \n",
       "\n",
       "     MEDSTART  INSULIN  METFORMIN  GLP1  SGLT2  \n",
       "0  1957-02-27        0          1     1      0  \n",
       "1  1995-03-13        0          0     1      0  "
      ]
     },
     "execution_count": 131,
     "metadata": {},
     "output_type": "execute_result"
    }
   ],
   "source": [
    "# load medications\n",
    "\n",
    "medications = pd.read_csv('diabetes/m.csv')\n",
    "medications.head(2)"
   ]
  },
  {
   "cell_type": "code",
   "execution_count": 138,
   "id": "loved-tampa",
   "metadata": {},
   "outputs": [
    {
     "data": {
      "text/html": [
       "<div>\n",
       "<style scoped>\n",
       "    .dataframe tbody tr th:only-of-type {\n",
       "        vertical-align: middle;\n",
       "    }\n",
       "\n",
       "    .dataframe tbody tr th {\n",
       "        vertical-align: top;\n",
       "    }\n",
       "\n",
       "    .dataframe thead th {\n",
       "        text-align: right;\n",
       "    }\n",
       "</style>\n",
       "<table border=\"1\" class=\"dataframe\">\n",
       "  <thead>\n",
       "    <tr style=\"text-align: right;\">\n",
       "      <th></th>\n",
       "      <th>OBSDATE</th>\n",
       "      <th>PATIENT</th>\n",
       "      <th>ENCOUNTER</th>\n",
       "      <th>CODE</th>\n",
       "      <th>HBA1C</th>\n",
       "    </tr>\n",
       "  </thead>\n",
       "  <tbody>\n",
       "    <tr>\n",
       "      <th>142506</th>\n",
       "      <td>2011-05-20</td>\n",
       "      <td>00005a31-23bc-46dc-9dcd-13337680b90e</td>\n",
       "      <td>b539805a-20a7-4975-b16b-19629b23ba78</td>\n",
       "      <td>4548-4</td>\n",
       "      <td>5.8</td>\n",
       "    </tr>\n",
       "    <tr>\n",
       "      <th>142507</th>\n",
       "      <td>2013-09-27</td>\n",
       "      <td>00005a31-23bc-46dc-9dcd-13337680b90e</td>\n",
       "      <td>00dc3ed1-9382-43df-9c77-c6f3a8376f18</td>\n",
       "      <td>4548-4</td>\n",
       "      <td>6.3</td>\n",
       "    </tr>\n",
       "  </tbody>\n",
       "</table>\n",
       "</div>"
      ],
      "text/plain": [
       "           OBSDATE                               PATIENT  \\\n",
       "142506  2011-05-20  00005a31-23bc-46dc-9dcd-13337680b90e   \n",
       "142507  2013-09-27  00005a31-23bc-46dc-9dcd-13337680b90e   \n",
       "\n",
       "                                   ENCOUNTER    CODE  HBA1C  \n",
       "142506  b539805a-20a7-4975-b16b-19629b23ba78  4548-4    5.8  \n",
       "142507  00dc3ed1-9382-43df-9c77-c6f3a8376f18  4548-4    6.3  "
      ]
     },
     "execution_count": 138,
     "metadata": {},
     "output_type": "execute_result"
    }
   ],
   "source": [
    "# load observations\n",
    "\n",
    "observations = pd.read_csv('diabetes/o.csv')\n",
    "observations = observations.rename(columns={'DATE':'OBSDATE', 'VALUE':'HBA1C'})\n",
    "observations.head(2)"
   ]
  },
  {
   "cell_type": "code",
   "execution_count": 160,
   "id": "otherwise-cursor",
   "metadata": {},
   "outputs": [],
   "source": [
    "# MERGE : MEDICATION + OBSERVATIONS (HBA1C)\n",
    "\n",
    "merged = medications.merge(\n",
    "    observations, \n",
    "    left_on=['PATIENT', 'ENCOUNTER', 'MEDSTART'],\n",
    "    right_on=['PATIENT', 'ENCOUNTER', 'OBSDATE'],\n",
    "    how='left')\n",
    "merged = merged[~merged['HBA1C'].isna()].reset_index(drop=True)"
   ]
  },
  {
   "cell_type": "code",
   "execution_count": 162,
   "id": "informative-membership",
   "metadata": {},
   "outputs": [],
   "source": [
    "merged.to_csv('diabetes/m_o.csv', index=False)"
   ]
  },
  {
   "cell_type": "code",
   "execution_count": 164,
   "id": "fitting-assault",
   "metadata": {},
   "outputs": [],
   "source": [
    "#merged"
   ]
  },
  {
   "cell_type": "code",
   "execution_count": null,
   "id": "sunrise-caribbean",
   "metadata": {},
   "outputs": [],
   "source": []
  },
  {
   "cell_type": "code",
   "execution_count": null,
   "id": "apart-booth",
   "metadata": {},
   "outputs": [],
   "source": []
  },
  {
   "cell_type": "markdown",
   "id": "italian-apparel",
   "metadata": {},
   "source": [
    "## Goal\n",
    "\n",
    "1. livespan after the first medication using specific drug \n",
    "2. on what condition the medication given? (hba1c level)\n",
    "3. \n",
    "\n",
    "- months do you spent from the first diagnosis until dead\n",
    "- years until another medication? or another encounter?\n",
    "- from diagnosis to first medication? then to second medication?\n",
    "- proportion of patients get particular medication (metformin)\n",
    "\n",
    "- likelihood for new patient using particular drug\n",
    "- looking at diabetes + another disease\n"
   ]
  },
  {
   "cell_type": "code",
   "execution_count": null,
   "id": "fifth-magnet",
   "metadata": {},
   "outputs": [],
   "source": [
    "df = pd.DataFrame(np.array([[1, 2, 3], [4, 5, 6], [7, 8, 9]]), columns=['a', 'b', 'c'])\n",
    "df['x1'] = df['a'].shift(1, fill_value=0)\n",
    "df"
   ]
  }
 ],
 "metadata": {
  "kernelspec": {
   "display_name": "Python 3",
   "language": "python",
   "name": "python3"
  },
  "language_info": {
   "codemirror_mode": {
    "name": "ipython",
    "version": 3
   },
   "file_extension": ".py",
   "mimetype": "text/x-python",
   "name": "python",
   "nbconvert_exporter": "python",
   "pygments_lexer": "ipython3",
   "version": "3.9.1"
  }
 },
 "nbformat": 4,
 "nbformat_minor": 5
}
