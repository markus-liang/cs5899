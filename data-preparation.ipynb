{
 "cells": [
  {
   "cell_type": "code",
   "execution_count": 1,
   "id": "foster-jaguar",
   "metadata": {},
   "outputs": [],
   "source": [
    "# Declaration\n",
    "\n",
    "import pandas as pd\n",
    "import numpy as np\n",
    "from enum import Enum\n",
    "from enum import IntEnum\n",
    "\n",
    "class Disease(IntEnum):\n",
    "    CHD = 53741008\n",
    "    DIABETES = 44054006\n",
    "    HYPERTENSION = 38341003\n",
    "    MI = 22298006\n",
    "    STROKE = 230690007\n",
    "    COPD = 185086009\n",
    "\n",
    "class DrugDiabetes(IntEnum):\n",
    "    METFORMIN = 860975\n",
    "    INSULIN = 106892\n",
    "    GLP1 = 897122\n",
    "    SGLT2 = 1373463\n",
    "    \n",
    "class DrugCOPD(IntEnum):\n",
    "    FLUTICASONE = 896188\n",
    "\n",
    "class Observation(Enum):\n",
    "    BH = '8302-2'\n",
    "    BW = '29463-7'\n",
    "    BMI = '39156-5'\n",
    "    DIASTOLIC = '8462-4'\n",
    "    GLUCOSE = '2339-0'\n",
    "    HBA1C = '4548-4'\n",
    "    SYSTOLIC = '8480-6'\n",
    "    FEV1 = '19926-5'"
   ]
  },
  {
   "cell_type": "markdown",
   "id": "liable-medline",
   "metadata": {},
   "source": [
    "\n",
    "## LOAD & CLEANING DATA PER SET\n",
    "\n",
    "source : set(setnumber)\\_raw/\n",
    "dest   : set(setnumber)/"
   ]
  },
  {
   "cell_type": "code",
   "execution_count": 2,
   "id": "jewish-newfoundland",
   "metadata": {},
   "outputs": [],
   "source": [
    "cleaning_set = 'set1'\n",
    "\n",
    "# loading data\n",
    "def load_data(type):\n",
    "    data = pd.read_csv(cleaning_set + '/' + type + '.csv')\n",
    "    return data"
   ]
  },
  {
   "cell_type": "code",
   "execution_count": null,
   "id": "accurate-stick",
   "metadata": {},
   "outputs": [],
   "source": [
    "# cleaning - patients\n",
    "def cleaning_patients():\n",
    "    # patients\n",
    "    pat = pd.read_csv(cleaning_set + '_raw/patients.csv', sep=';', usecols=range(17))\n",
    "    pat = pat.drop(\n",
    "        ['SSN', 'DRIVERS', 'PASSPORT', 'PREFIX', 'FIRST', 'LAST', 'SUFFIX', 'MARITAL', 'MAIDEN', 'BIRTHPLACE', 'ADDRESS' ], \n",
    "        axis=1\n",
    "    )\n",
    "\n",
    "    # clean data due to malformed csv\n",
    "    race_list = ['asian', 'white', 'black', 'hispanic']\n",
    "    pat['RACE'].replace(pat[~pat['RACE'].isin(race_list)]['RACE'].array, np.nan, inplace=True)\n",
    "    pat = pat[pat['RACE'].notna()]\n",
    "\n",
    "    ethnicity_list = ['african', 'american', 'american_indian', 'asian_indian', 'central_american', 'chinese', 'dominican', 'english', 'french', 'french_canadian', 'german', 'irish', 'italian', 'mexican', 'polish', 'portuguese', 'puerto_rican', 'russian', 'scottish', 'swedish', 'west_indian']\n",
    "    pat['ETHNICITY'].replace(pat[~pat['ETHNICITY'].isin(ethnicity_list)]['ETHNICITY'].array, np.nan, inplace=True)\n",
    "\n",
    "    gender_list = ['F', 'M']\n",
    "    pat['GENDER'].replace(pat[~pat['GENDER'].isin(gender_list)]['GENDER'].array, np.nan, inplace=True)\n",
    "    pat = pat[pat['GENDER'].notna()]\n",
    "\n",
    "    # save\n",
    "    pat.to_csv(cleaning_set + '/patients.csv', index=False)\n",
    "\n",
    "cleaning_patients()"
   ]
  },
  {
   "cell_type": "code",
   "execution_count": null,
   "id": "relative-floating",
   "metadata": {},
   "outputs": [],
   "source": [
    "# cleaning - medications\n",
    "\n",
    "def cleaning_medications():\n",
    "    # remove all medications without patient data\n",
    "    pat = load_data('patients')\n",
    "\n",
    "    med = pd.read_csv(cleaning_set + '_raw/medications.csv')        \n",
    "    med = med[med['PATIENT'].isin(pat['ID'])]\n",
    "    med = med[~med['REASONCODE'].isna()]\n",
    "    med = med.drop_duplicates()\n",
    "    med['REASONCODE'] = med['REASONCODE'].astype('int')\n",
    "\n",
    "    #med['STOP'] = med['STOP'].fillna('9999-01-01')\n",
    "\n",
    "\n",
    "    # save\n",
    "    med.to_csv(cleaning_set + '/medications.csv', index=False)\n",
    "    display(med)\n",
    "\n",
    "cleaning_medications()"
   ]
  },
  {
   "cell_type": "code",
   "execution_count": null,
   "id": "regional-franklin",
   "metadata": {},
   "outputs": [],
   "source": [
    "# cleaning - encounters\n",
    "\n",
    "def cleaning_encounters():\n",
    "    # remove all encounters without patient data\n",
    "    pat = load_data('patients')\n",
    "\n",
    "    enc = pd.read_csv(cleaning_set + '_raw/encounters.csv')\n",
    "    # most of it is null\n",
    "    enc = enc.drop(\n",
    "        ['DESCRIPTION', 'REASONDESCRIPTION'], \n",
    "        axis=1\n",
    "    )\n",
    "    enc = enc[enc['PATIENT'].isin(pat['ID'])]\n",
    "\n",
    "    # save\n",
    "    enc.to_csv(cleaning_set + '/encounters.csv', index=False)\n",
    "    \n",
    "cleaning_encounters()"
   ]
  },
  {
   "cell_type": "code",
   "execution_count": null,
   "id": "eleven-punch",
   "metadata": {},
   "outputs": [],
   "source": [
    "# cleaning - observations\n",
    "\n",
    "def cleaning_observations():\n",
    "    # remove all encounters without patient data\n",
    "    pat = load_data('patients')\n",
    "    obs = pd.read_csv(cleaning_set + '_raw/observations.csv')\n",
    "    obs = obs[obs['PATIENT'].isin(pat['ID'])]\n",
    "    obs = obs[~obs['VALUE'].isna()]\n",
    "    obs = obs.loc[\n",
    "        (obs.CODE==Observation.BH.value)\n",
    "        | (obs.CODE==Observation.BW.value)\n",
    "        | (obs.CODE==Observation.BMI.value)\n",
    "        | (obs.CODE==Observation.DIASTOLIC.value)\n",
    "        | (obs.CODE==Observation.HBA1C.value)\n",
    "        | (obs.CODE==Observation.SYSTOLIC.value)\n",
    "        | (obs.CODE==Observation.FEV1.value)\n",
    "    ]\n",
    "    obs = obs.drop_duplicates()\n",
    "    # save\n",
    "    obs.to_csv(cleaning_set + '/observations.csv', index=False)\n",
    "\n",
    "cleaning_observations()"
   ]
  },
  {
   "cell_type": "code",
   "execution_count": 11,
   "id": "subsequent-management",
   "metadata": {},
   "outputs": [],
   "source": [
    "# cleaning - conditions\n",
    "\n",
    "def cleaning_conditions():\n",
    "    pat = load_data('patients')\n",
    "    con = pd.read_csv(cleaning_set + '_raw/conditions.csv')\n",
    "    con = con[con['PATIENT'].isin(pat['ID'])]\n",
    "    con = con[\n",
    "        (con['CODE'] == Disease.DIABETES)\n",
    "        | (con['CODE'] == Disease.HYPERTENSION)\n",
    "        | (con['CODE'] == Disease.CHD)\n",
    "        | (con['CODE'] == Disease.MI)\n",
    "        | (con['CODE'] == Disease.STROKE)\n",
    "        | (con['CODE'] == Disease.COPD)\n",
    "    ]\n",
    "    con = con.drop_duplicates()\n",
    "\n",
    "    #save\n",
    "    con.to_csv(cleaning_set + '/conditions.csv', index=False)\n",
    "\n",
    "cleaning_conditions()\n"
   ]
  },
  {
   "cell_type": "markdown",
   "id": "seasonal-sheriff",
   "metadata": {},
   "source": [
    "## CONCAT ALL DATASET FROM ALL SET PER TYPE\n",
    "\n",
    "source : set1/, set2/, set3/, ...\n",
    "\n",
    "target : set_full/\n",
    "\n",
    "files :\n",
    "- patients.csv : ID, BIRTHDATE, DEATHDATE, RACE, ETHNICITY, GENDER\n",
    "- medications.csv  : START, STOP, PATIENT, ENCOUNTER, CODE, DESCRIPTION, REASONCODE, REASONDESCRIPTION\n",
    "- encounters.csv   : ID, DATE, PATIENT, CODE, REASONCODE\n",
    "- observations.csv : DATE, PATIENT, ENCOUNTER, CODE, DESCRIPTION, VALUE, UNITS"
   ]
  },
  {
   "cell_type": "code",
   "execution_count": 12,
   "id": "viral-precipitation",
   "metadata": {},
   "outputs": [],
   "source": [
    "# merge all cleaned data\n",
    "def concat_set(type, max_set):\n",
    "    result = pd.read_csv('set1/' + type + '.csv')\n",
    "    for i in range(2, max_set+1):\n",
    "        temp = pd.read_csv('set' + str(i) + '/' + type + '.csv')\n",
    "        result = result.append(temp).reset_index(drop=True)\n",
    "    result.to_csv('set_full/' + type + '.csv', index=False)\n",
    "    return result\n",
    "\n",
    "# [patients | medications | observations | encounters | conditions]\n",
    "data = concat_set('conditions', 9)\n",
    "#data"
   ]
  },
  {
   "cell_type": "code",
   "execution_count": null,
   "id": "likely-blackjack",
   "metadata": {},
   "outputs": [],
   "source": [
    "# Cleaning full patient data (date fix)\n",
    "# Keep only patients who have medication record\n",
    "\n",
    "def cleaning_patients_fix_date():\n",
    "    # load data\n",
    "    patients = pd.read_csv('set_full/patients.csv')\n",
    "\n",
    "    medications = pd.read_csv('set_full/medications.csv')\n",
    "\n",
    "    # MERGE : PATIENT + MEDICATION\n",
    "\n",
    "    patient_ids = medications['PATIENT'].unique()\n",
    "    patients = patients[patients['ID'].isin(patient_ids)]\n",
    "\n",
    "    merged = patients.merge(medications, left_on='ID', right_on='PATIENT', how='left')\n",
    "\n",
    "    # Convert data types\n",
    "    merged['BIRTHDATE'] = pd.to_datetime(merged['BIRTHDATE'], format='%d/%m/%y')\n",
    "    merged['DEATHDATE'] = pd.to_datetime(merged['DEATHDATE'], format='%d/%m/%y')\n",
    "    merged['START'] = pd.to_datetime(merged['START'], format='%Y-%m-%d')\n",
    "\n",
    "    merged = merged[(merged['DEATHDATE'].isna()) | (merged['DEATHDATE'] < pd.to_datetime('2015-01-01'))]\n",
    "\n",
    "    # Fix 2 digits of year misinterpretation\n",
    "    merged.loc[merged['BIRTHDATE'] > merged['START'], 'BIRTHDATE'] = merged['BIRTHDATE'] - pd.offsets.DateOffset(years=100)\n",
    "    merged.loc[merged['DEATHDATE'] > pd.to_datetime('2020-12-31'), 'DEATHDATE'] = merged['DEATHDATE'] - pd.offsets.DateOffset(years=100)\n",
    "\n",
    "    # Add additional information\n",
    "    # dead status\n",
    "    merged['DEAD'] =  np.where(merged['DEATHDATE'].isnull(), 0, 1)\n",
    "    # age when dead (accuracy up to month level)\n",
    "    merged['AGEDEAD'] = merged['DEATHDATE'].dt.year - merged['BIRTHDATE'].dt.year - (merged['DEATHDATE'].dt.month < merged['BIRTHDATE'].dt.month)\n",
    "\n",
    "    # Drop unused columns\n",
    "    merged.drop(['PATIENT', 'ENCOUNTER', 'START', 'STOP', 'CODE', 'DESCRIPTION', 'REASONCODE', 'REASONDESCRIPTION'], axis=1, inplace=True, errors='ignore')\n",
    "\n",
    "    merged = merged.drop_duplicates().reset_index(drop=True)\n",
    "\n",
    "    merged.to_csv('set_full/patient_fixed_date.csv', index=False)\n",
    "\n",
    "cleaning_patients_fix_date() "
   ]
  },
  {
   "cell_type": "markdown",
   "id": "portable-hopkins",
   "metadata": {},
   "source": [
    "## DIABETES\n"
   ]
  },
  {
   "cell_type": "markdown",
   "id": "matched-innocent",
   "metadata": {},
   "source": [
    "## Characteristic of the medication data\n",
    "\n",
    "Fact :\n",
    "- All metformin do not have STOP date\n",
    "- There is no record of someone receive > 1 record of metformin\n",
    "\n",
    "Set used : 1-3\n",
    "Medication durations per record (in days)\n",
    "- METFORMIN\n",
    "    - mean : -\n",
    "    - median : -\n",
    "- SGLT2\n",
    "    - mean : 354.24 (~ 1 year)\n",
    "    - median : 352 (~ 1 year)\n",
    "- GLP1\n",
    "    - mean : 992.80 (~ 3 year)\n",
    "    - median : 659 (~ 2 years)\n",
    "- INSULIN\n",
    "    - count : 396\n",
    "    - mean : 1923.86 (~ 5 years)\n",
    "    - median : 631 (~ 2 years)\n",
    "\n",
    "The data above shows that the duration is not a date when the patient get drugs from prescription. It is possible that during periode between start and date, the patient has more than one prescription.\n",
    "\n",
    "Base on that fact, it is reasonable to make assumptions:\n",
    "- those who receive metformin as their first medication will always use it forever because metformin has no end date\n",
    "- if there is another medication found after metformin, then it will be a double or triple medications combined with it (this is relevant with NICE guideline)\n",
    "\n",
    "Question :\n",
    "- for the intensification assumption, can it apply for insulin?\n",
    "  according to NICE insulin is a single medication and not to be used together with other medication\n"
   ]
  },
  {
   "cell_type": "code",
   "execution_count": null,
   "id": "sticky-prize",
   "metadata": {},
   "outputs": [],
   "source": [
    "# load medications\n",
    "medications = pd.read_csv('set_full/medications.csv')\n",
    "# diabetes only\n",
    "medications = medications[medications['REASONCODE'] == Disease.DIABETES].reset_index(drop=True)\n",
    "# drop unused columns\n",
    "medications = medications.drop(['REASONCODE', 'REASONDESCRIPTION'], axis=1)\n",
    "\n",
    "medications['START'] = pd.to_datetime(medications['START'], format='%Y-%m-%d')\n",
    "medications['STOP'] = pd.to_datetime(medications['STOP'], format='%Y-%m-%d')\n",
    "\n",
    "# get medication duration\n",
    "medications['DURATION'] = (medications['STOP'] - medications['START']).dt.days\n",
    "# medications = medications[medications['DURATION'] > 0]"
   ]
  },
  {
   "cell_type": "code",
   "execution_count": null,
   "id": "driving-whale",
   "metadata": {},
   "outputs": [],
   "source": [
    "# calculate medical duration per drugs\n",
    "metformin = medications[medications['CODE'] == DrugDiabetes.METFORMIN]\n",
    "#metformin.describe()"
   ]
  },
  {
   "cell_type": "code",
   "execution_count": null,
   "id": "administrative-charleston",
   "metadata": {},
   "outputs": [],
   "source": [
    "# calculate medical duration per drugs\n",
    "sglt2 = medications[medications['CODE'] == DrugDiabetes.SGLT2]\n",
    "sglt2.describe()"
   ]
  },
  {
   "cell_type": "code",
   "execution_count": null,
   "id": "sealed-change",
   "metadata": {},
   "outputs": [],
   "source": [
    "# calculate medical duration per drugs\n",
    "glp1 = medications[medications['CODE'] == DrugDiabetes.GLP1]\n",
    "glp1.describe()"
   ]
  },
  {
   "cell_type": "code",
   "execution_count": null,
   "id": "changing-victorian",
   "metadata": {},
   "outputs": [],
   "source": [
    "# calculate medical duration per drugs\n",
    "insulin = medications[medications['CODE'] == DrugDiabetes.INSULIN]\n",
    "insulin.describe()"
   ]
  },
  {
   "cell_type": "code",
   "execution_count": null,
   "id": "computational-johnson",
   "metadata": {},
   "outputs": [],
   "source": [
    "# There is no record of someone get more than one metformin\n",
    "\n",
    "# fill medication stop with duration median (per medication)\n",
    "met = medications[medications['CODE'] == DrugDiabetes.METFORMIN].reset_index(drop=True)\n",
    "met['MEDNUM'] = met.groupby(by=['PATIENT']).cumcount() + 1\n",
    "#met.set_index(['PATIENT', 'ENCOUNTER'])\n",
    "met[met.MEDNUM > 1]"
   ]
  },
  {
   "cell_type": "markdown",
   "id": "third-doctrine",
   "metadata": {},
   "source": [
    "### 1. Medications\n",
    "\n",
    "Transform medications from the same date into separated columns\n",
    "\n",
    "- file : \"diabetes/m.csv\"\n",
    "- fields : PATIENT, ENCOUNTER, MEDSTART, INSULIN, METFORMIN, GLP1, SGLT2, COMBINATION, MEDCLASS\n",
    "\n",
    "Step by step :\n",
    "- One hot encoding for medication\n",
    "- Combine all medications on the same date\n",
    "- If there is no stop date, then the treatment data on line [i] will continue to run on line [i + 1], but if there is a stop date, it will not carry over to the next medication\n",
    "- So if there is a new drugs used in the next record, it will come as an intensification of the treatment"
   ]
  },
  {
   "cell_type": "code",
   "execution_count": null,
   "id": "advanced-technique",
   "metadata": {},
   "outputs": [],
   "source": [
    "# load medications\n",
    "medications = pd.read_csv('set_full/medications.csv')\n",
    "\n",
    "# diabetes only\n",
    "medications = medications[medications['REASONCODE'] == Disease.DIABETES].reset_index(drop=True)\n",
    "\n",
    "# drop unused columns\n",
    "medications = medications.drop(['DESCRIPTION', 'REASONCODE', 'REASONDESCRIPTION'], axis=1)\n",
    "\n",
    "# create multiple indexes\n",
    "medications = medications.set_index(['PATIENT', 'START'])\n",
    "\n",
    "# convert medications data to columns (one hot encoding)\n",
    "medications = pd.get_dummies(data = medications, columns=['CODE'])\n",
    "\n",
    "# sort based on date\n",
    "medications.sort_index(inplace=True)\n",
    "\n",
    "medications = medications.reset_index()\n",
    "\n",
    "# Rename drugs columns\n",
    "for d in DrugDiabetes:\n",
    "    medications.rename(\n",
    "        columns={            \n",
    "            'CODE_' + str(d.value) : d.name\n",
    "        }, inplace=True\n",
    "    )\n",
    "\n",
    "medications.head(5)"
   ]
  },
  {
   "cell_type": "code",
   "execution_count": null,
   "id": "therapeutic-basics",
   "metadata": {},
   "outputs": [],
   "source": [
    "#medications = medications[medications['PATIENT'].isin(['018abf0e-6843-44c7-8003-5403631d8a53', '09ce20b5-1c49-4549-af2b-f2fc6399f6a6'])]"
   ]
  },
  {
   "cell_type": "code",
   "execution_count": null,
   "id": "engaging-lighter",
   "metadata": {},
   "outputs": [],
   "source": [
    "result = medications.groupby(by=['PATIENT','START','ENCOUNTER']).agg(['sum'])\n",
    "result.columns = result.columns.droplevel(1)\n",
    "result"
   ]
  },
  {
   "cell_type": "code",
   "execution_count": null,
   "id": "complete-cannon",
   "metadata": {},
   "outputs": [],
   "source": [
    "medications['STOP'].fillna('-', inplace=True)\n",
    "\n",
    "prev_patient = ''\n",
    "grouped = medications.groupby(['PATIENT', 'START', 'ENCOUNTER'])\n",
    "\n",
    "for index, group in grouped:\n",
    "    patient = index[0]\n",
    "    if patient != prev_patient:\n",
    "        prev_patient = patient\n",
    "        carry_insulin = False\n",
    "        carry_metformin = False\n",
    "        carry_glp1 = False\n",
    "        carry_sglt2 = False\n",
    "\n",
    "    temp = group.reset_index(drop=True)\n",
    "\n",
    "    # cari carry sebelum aggregate\n",
    "    for i in range(0, len(temp)):\n",
    "        if (temp.loc[i]['INSULIN'] == 1):\n",
    "            carry_insulin = (temp.loc[i]['STOP'] == '-')\n",
    "        elif (temp.loc[i]['METFORMIN'] == 1):\n",
    "            carry_metformin = (temp.loc[i]['STOP'] == '-')\n",
    "        elif temp.loc[i]['GLP1'] == 1:\n",
    "            carry_glp1 = (temp.loc[i]['STOP'] == '-')\n",
    "        elif temp.loc[i]['SGLT2'] == 1:\n",
    "            carry_sglt2 = (temp.loc[i]['STOP'] == '-')\n",
    "    \n",
    "    if carry_insulin:\n",
    "        result.at[index, 'INSULIN'] = 1\n",
    "\n",
    "    if carry_metformin:\n",
    "        result.at[index, 'METFORMIN'] = 1\n",
    "\n",
    "    if carry_glp1:\n",
    "        result.at[index, 'GLP1'] = 1\n",
    "\n",
    "    if carry_sglt2:\n",
    "        result.at[index, 'SGLT2'] = 1\n",
    "\n",
    "#result = result.reset_index()"
   ]
  },
  {
   "cell_type": "code",
   "execution_count": null,
   "id": "killing-opportunity",
   "metadata": {},
   "outputs": [],
   "source": [
    "# number of combination \n",
    "result['COMBINATION'] = result['INSULIN'] + result['METFORMIN'] + result['GLP1'] + result['SGLT2']\n",
    "\n",
    "# medication class to categorize medications (what medications are used)\n",
    "result['MEDCLASS'] = result['INSULIN'].astype('str') + result['METFORMIN'].astype('str') + result['GLP1'].astype('str') + result['SGLT2'].astype('str')\n",
    "\n",
    "# medication number\n",
    "result['MEDNUM'] = result.groupby(by=['PATIENT']).cumcount() + 1"
   ]
  },
  {
   "cell_type": "code",
   "execution_count": null,
   "id": "patient-picture",
   "metadata": {},
   "outputs": [],
   "source": [
    "# get previous medication\n",
    "result['PREVMED'] = result.groupby(by=['PATIENT'])['MEDCLASS'].shift(1, fill_value='0000')"
   ]
  },
  {
   "cell_type": "code",
   "execution_count": null,
   "id": "adolescent-smith",
   "metadata": {},
   "outputs": [],
   "source": [
    "result = result.reset_index()"
   ]
  },
  {
   "cell_type": "code",
   "execution_count": null,
   "id": "welsh-boston",
   "metadata": {},
   "outputs": [],
   "source": [
    "# rename columns\n",
    "result = result.rename(\n",
    "    columns={\n",
    "        'START':'MEDSTART'\n",
    "    }\n",
    ")"
   ]
  },
  {
   "cell_type": "code",
   "execution_count": null,
   "id": "differential-rolling",
   "metadata": {},
   "outputs": [],
   "source": [
    "result.to_csv('diabetes/m.csv', index=False)"
   ]
  },
  {
   "cell_type": "markdown",
   "id": "fixed-necessity",
   "metadata": {},
   "source": [
    "### Add more data : first medication date, previous medication duration"
   ]
  },
  {
   "cell_type": "code",
   "execution_count": null,
   "id": "large-identification",
   "metadata": {},
   "outputs": [],
   "source": [
    "data = pd.read_csv('diabetes/m.csv', converters={'MEDCLASS': lambda x: str(x), 'PREVMED': lambda x: str(x)})\n",
    "\n",
    "data['PREVMEDSTART'] = data.groupby(by=['PATIENT'])['MEDSTART'].shift(1)\n",
    "\n",
    "data['MEDSTART'] = pd.to_datetime(data['MEDSTART'], format='%Y-%m-%d')\n",
    "data['PREVMEDSTART'] = pd.to_datetime(data['PREVMEDSTART'], format='%Y-%m-%d')\n",
    "\n",
    "data['PREVMEDDUR'] = (data['MEDSTART'] - data['PREVMEDSTART']).dt.days\n",
    "data['PREVMEDDUR'].fillna(0, inplace=True)\n",
    "\n",
    "data.head()\n",
    "\n",
    "data.to_csv('diabetes/m.csv', index=False)"
   ]
  },
  {
   "cell_type": "markdown",
   "id": "built-prison",
   "metadata": {},
   "source": [
    "### 2. Observations\n",
    "- file : \"diabetes/o.csv\"\n",
    "- fields : DATE, PATIENT, ENCOUNTER, HBA1C (%), BMI (kg/m2)"
   ]
  },
  {
   "cell_type": "code",
   "execution_count": null,
   "id": "cheap-interstate",
   "metadata": {},
   "outputs": [],
   "source": [
    "observations = pd.read_csv('set_full/observations.csv')\n",
    "observations = observations[\n",
    "    (observations['CODE'] == Observation.HBA1C.value) | (observations['CODE'] == Observation.BMI.value)]\n",
    "observations.drop(['DESCRIPTION', 'UNITS'], axis=1, inplace=True, errors='ignore')\n",
    "\n",
    "# minimum observation value for Diabetes is 0\n",
    "observations['VALUE'].replace(observations[observations['VALUE'] < 0]['VALUE'].array, np.nan, inplace=True)\n",
    "observations = observations[~observations['VALUE'].isna()].reset_index(drop=True)\n",
    "observations\n",
    "observations.to_csv('diabetes/o.csv', index=False)"
   ]
  },
  {
   "cell_type": "code",
   "execution_count": null,
   "id": "tough-permit",
   "metadata": {
    "scrolled": true
   },
   "outputs": [],
   "source": [
    "observations.tail()"
   ]
  },
  {
   "cell_type": "markdown",
   "id": "adolescent-modem",
   "metadata": {},
   "source": [
    "### 3. Patient - Medication\n",
    "\n",
    "- file : \"diabetes/p_m.csv\"\n",
    "- fields :\n",
    "    - [RACE, ETHNICITY, GENDER, PATIENT, ENCOUNTER] \n",
    "    - [MEDSTART, INSULIN, METFORMIN, GLP1, SGLT2, DEAD, COMBINATION]\n",
    "    - [AGEDEAD, AGEMEDICATION, AGEFIRSTMEDICATION, DAYSLIVEFIRSTMED]\n"
   ]
  },
  {
   "cell_type": "code",
   "execution_count": null,
   "id": "dress-publicity",
   "metadata": {},
   "outputs": [],
   "source": [
    "# load data\n",
    "patients = pd.read_csv('set_full/patients.csv')\n",
    "\n",
    "medications = pd.read_csv('diabetes/m.csv', converters={'MEDCLASS': lambda x: str(x), 'PREVMED': lambda x: str(x)})\n",
    "\n",
    "# MERGE : PATIENT + MEDICATION\n",
    "\n",
    "# diabetes patients based on medications record\n",
    "diabetes = medications\n",
    "diabetes_patient_ids = diabetes['PATIENT'].unique()\n",
    "\n",
    "# list of patients who have diabetes\n",
    "diabetes_patients = patients[patients['ID'].isin(diabetes_patient_ids)]\n",
    "\n",
    "# data of patient with diabetes medication\n",
    "merged = diabetes_patients.merge(diabetes, left_on='ID', right_on='PATIENT', how='left')\n",
    "\n",
    "# Convert data types\n",
    "merged['BIRTHDATE'] = pd.to_datetime(merged['BIRTHDATE'], format='%d/%m/%y')\n",
    "merged['DEATHDATE'] = pd.to_datetime(merged['DEATHDATE'], format='%d/%m/%y')\n",
    "merged['MEDSTART'] = pd.to_datetime(merged['MEDSTART'], format='%Y-%m-%d')\n",
    "\n",
    "# Only those who are still alive or death before 2015 \n",
    "merged = merged[(merged['DEATHDATE'].isna()) | (merged['DEATHDATE'] < pd.to_datetime('2015-01-01'))]\n",
    "\n",
    "# Fix 2 digits of year misinterpretation\n",
    "merged.loc[merged['BIRTHDATE'] > merged['MEDSTART'], 'BIRTHDATE'] = merged['BIRTHDATE'] - pd.offsets.DateOffset(years=100)\n",
    "merged.loc[merged['DEATHDATE'] > pd.to_datetime('2020-12-31'), 'DEATHDATE'] = merged['DEATHDATE'] - pd.offsets.DateOffset(years=100)\n",
    "\n",
    "# Add additional information\n",
    "\n",
    "# dead status\n",
    "merged['DEAD'] =  np.where(merged['DEATHDATE'].isnull(), 0, 1)\n",
    "\n",
    "# age when dead (accuracy up to month level)\n",
    "merged['AGEDEAD'] = merged['DEATHDATE'].dt.year - merged['BIRTHDATE'].dt.year - (merged['DEATHDATE'].dt.month < merged['BIRTHDATE'].dt.month)\n",
    "\n",
    "# when the medication happened\n",
    "merged['AGEMEDICATION'] = (merged['MEDSTART']).dt.year - (merged['BIRTHDATE']).dt.year - (merged['MEDSTART'].dt.month < merged['BIRTHDATE'].dt.month)\n",
    "\n",
    "# age first medication\n",
    "group = merged.groupby(['PATIENT'])\n",
    "group_age_medication = group['AGEMEDICATION'].min()\n",
    "temp = pd.DataFrame({'PATIENTID': group_age_medication.keys(), 'AGEFIRSTMEDICATION':group_age_medication.values})\n",
    "merged = merged.merge(temp, left_on='ID', right_on='PATIENTID', how='left')\n",
    "\n",
    "# livespan after first medication\n",
    "merged['DAYSLIVEFIRSTMED'] = (merged['DEATHDATE'] - merged['MEDSTART']).dt.days\n",
    "\n",
    "# Drop unused columns\n",
    "merged.drop(['ID', 'BIRTHDATE', 'DEATHDATE', 'PATIENTID'], axis=1, inplace=True, errors='ignore')\n",
    "\n",
    "merged = merged.drop_duplicates()\n",
    "\n",
    "# get the patient_medication table\n",
    "merged = merged.sort_values(by=['PATIENT', 'ENCOUNTER', 'MEDSTART'])\n",
    "\n",
    "# save\n",
    "merged.to_csv('diabetes/p_m.csv', index=False)"
   ]
  },
  {
   "cell_type": "code",
   "execution_count": null,
   "id": "golden-strap",
   "metadata": {},
   "outputs": [],
   "source": [
    "merged"
   ]
  },
  {
   "cell_type": "markdown",
   "id": "parliamentary-raising",
   "metadata": {},
   "source": [
    "### 4. Medication - Observation\n",
    "\n",
    "- file : \"diabetes/m_o.csv\"\n",
    "- fields : PATIENT, ENCOUNTER, MEDSTART, INSULIN, METFORMIN, GLP1, SGLT2, COMBINATION, OBSDATE, HBA1C, BMI\n",
    "\n",
    "Assumption : <= useless, because the observations are always in the same date with medications\n",
    "- The medication given cannot only based on the observation at the same date.\n",
    "- In this case, I make an assumption that the medication is given based on the last observation within max 1 month\n",
    "\n"
   ]
  },
  {
   "cell_type": "code",
   "execution_count": null,
   "id": "official-microphone",
   "metadata": {},
   "outputs": [],
   "source": [
    "# load medications\n",
    "\n",
    "medications = pd.read_csv('diabetes/m.csv', converters={'MEDCLASS': lambda x: str(x)})\n",
    "\n",
    "# load observations\n",
    "patients = list(set(medications['PATIENT']))\n",
    "\n",
    "observations = pd.read_csv('diabetes/o.csv')\n",
    "observations = observations.rename(columns={'DATE':'OBSDATE', 'VALUE': 'OBSVALUE'})\n",
    "\n",
    "# get obs that related to the medications\n",
    "observations = observations[observations['PATIENT'].isin(patients)].reset_index(drop=True)\n",
    "\n",
    "# HBA1C\n",
    "hba1c = observations[observations['CODE'] == Observation.HBA1C.value]\n",
    "\n",
    "# MERGE : MEDICATION + OBSERVATIONS (HBA1C)\n",
    "merged = medications.merge(\n",
    "    hba1c, \n",
    "    left_on=['PATIENT', 'ENCOUNTER', 'MEDSTART'],\n",
    "    right_on=['PATIENT', 'ENCOUNTER', 'OBSDATE'],\n",
    "    how='left')\n",
    "merged = merged[~merged['OBSVALUE'].isna()].reset_index(drop=True)\n",
    "merged = merged.drop('CODE', axis=1)\n",
    "merged = merged.rename(columns={'OBSVALUE':'HBA1C'})\n",
    "\n",
    "# BMI\n",
    "bmi = observations[observations['CODE'] == Observation.BMI.value]\n",
    "merged = merged.merge(\n",
    "    bmi, \n",
    "    left_on=['PATIENT', 'ENCOUNTER', 'MEDSTART'],\n",
    "    right_on=['PATIENT', 'ENCOUNTER', 'OBSDATE'],\n",
    "    how='left')\n",
    "merged = merged.drop(['CODE', 'OBSDATE_y'], axis=1)\n",
    "merged = merged.rename(columns={'OBSVALUE':'BMI', 'OBSDATE_x':'OBSDATE'})\n",
    "\n",
    "merged\n",
    "merged.to_csv('diabetes/m_o.csv', index=False)"
   ]
  },
  {
   "cell_type": "markdown",
   "id": "golden-comparison",
   "metadata": {},
   "source": [
    "### 4. Patient - Medication - Observation\n",
    "\n",
    "- file : \"diabetes/p_m_o.csv\"\n",
    "- fields : \n",
    "    - [RACE, ETHNICITY, GENDER, PATIENT, ENCOUNTER] \n",
    "    - [MEDSTART, INSULIN, METFORMIN, GLP1, SGLT2]\n",
    "    - [DEAD, AGEDEAD, AGEMEDICATION, AGEFIRSTMEDICATION, DAYSLIVEFIRSTMED, ISFIRST]\n",
    "    - [OBSDATE, HBA1C, BMI]"
   ]
  },
  {
   "cell_type": "code",
   "execution_count": null,
   "id": "eastern-conditions",
   "metadata": {},
   "outputs": [],
   "source": [
    "pm = pd.read_csv('diabetes/p_m.csv', converters={'MEDCLASS': lambda x: str(x)})\n",
    "\n",
    "# load observations\n",
    "observations = pd.read_csv('diabetes/o.csv')\n",
    "observations = observations.rename(columns={'DATE':'OBSDATE'})\n",
    "\n",
    "# HBA1C\n",
    "hba1c = observations[observations['CODE'] == Observation.HBA1C.value]\n",
    "pmo = pm.merge(\n",
    "    hba1c, \n",
    "    left_on=['PATIENT', 'ENCOUNTER', 'MEDSTART'],\n",
    "    right_on=['PATIENT', 'ENCOUNTER', 'OBSDATE'],\n",
    "    how='left')\n",
    "pmo = pmo[~pmo['VALUE'].isna()].reset_index(drop=True)\n",
    "pmo = pmo.drop('CODE', axis=1)\n",
    "pmo = pmo.rename(columns={'VALUE':'HBA1C'})\n",
    "\n",
    "# BMI\n",
    "bmi = observations[observations['CODE'] == Observation.BMI.value]\n",
    "pmo = pmo.merge(\n",
    "    bmi, \n",
    "    left_on=['PATIENT', 'ENCOUNTER', 'MEDSTART'],\n",
    "    right_on=['PATIENT', 'ENCOUNTER', 'OBSDATE'],\n",
    "    how='left')\n",
    "pmo = pmo.drop(['CODE', 'OBSDATE_y'], axis=1)\n",
    "pmo = pmo.rename(columns={'VALUE':'BMI', 'OBSDATE_x':'OBSDATE'})\n",
    "\n",
    "pmo.head(5)\n",
    "\n",
    "pmo.to_csv('diabetes/p_m_o.csv', index=False)"
   ]
  },
  {
   "cell_type": "markdown",
   "id": "wrong-locking",
   "metadata": {},
   "source": [
    "## --------------------------------------------------------------------------------------------------------"
   ]
  },
  {
   "cell_type": "markdown",
   "id": "placed-nowhere",
   "metadata": {},
   "source": [
    "## Hypertension"
   ]
  },
  {
   "cell_type": "code",
   "execution_count": null,
   "id": "empirical-smell",
   "metadata": {},
   "outputs": [],
   "source": [
    "# load data\n",
    "pm = pd.read_csv('diabetes/p_m.csv', converters={'MEDCLASS': lambda x: str(x)})\n",
    "pm['C_HYPER'] = 0\n",
    "\n",
    "hyper = pd.read_csv('set_full/conditions.csv')\n",
    "hyper = con[(con['CODE'] == Disease.HYPERTENSION) & con['PATIENT'].isin(list(set(pm['PATIENT'])))]\n",
    "hyper = hyper.drop(['STOP', 'ENCOUNTER', 'CODE', 'DESCRIPTION'], axis=1).reset_index(drop=True)\n",
    "set(pm.ETHNICITY)"
   ]
  },
  {
   "cell_type": "code",
   "execution_count": null,
   "id": "reflected-checkout",
   "metadata": {},
   "outputs": [],
   "source": [
    "# set hypertension to p_m\n",
    "#arr[i][0]:START arr[i][1]:PATIENT\n",
    "arr = hyper.values\n",
    "for i in range(0, len(arr)):\n",
    "    pm.loc[(pm['PATIENT'] == arr[i][1]) & (pm['MEDSTART'] >= arr[i][0]), 'C_HYPER'] =  1\n",
    "pm"
   ]
  },
  {
   "cell_type": "code",
   "execution_count": null,
   "id": "physical-zambia",
   "metadata": {},
   "outputs": [],
   "source": [
    "pm.to_csv('diabetes_hypertension/p_m.csv', index=False)"
   ]
  },
  {
   "cell_type": "code",
   "execution_count": null,
   "id": "ordered-miracle",
   "metadata": {},
   "outputs": [],
   "source": []
  }
 ],
 "metadata": {
  "kernelspec": {
   "display_name": "Python 3",
   "language": "python",
   "name": "python3"
  },
  "language_info": {
   "codemirror_mode": {
    "name": "ipython",
    "version": 3
   },
   "file_extension": ".py",
   "mimetype": "text/x-python",
   "name": "python",
   "nbconvert_exporter": "python",
   "pygments_lexer": "ipython3",
   "version": "3.9.1"
  }
 },
 "nbformat": 4,
 "nbformat_minor": 5
}
